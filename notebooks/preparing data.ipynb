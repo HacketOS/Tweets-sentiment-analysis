{
 "cells": [
  {
   "cell_type": "code",
   "execution_count": 1,
   "metadata": {},
   "outputs": [],
   "source": [
    "import pandas as pd\n",
    "import numpy as np\n",
    "import matplotlib.pyplot as plt\n",
    "import string\n",
    "import nltk\n",
    "import re\n",
    "from sklearn.model_selection import train_test_split\n",
    "import gensim\n",
    "import gc\n",
    "from sklearn.linear_model import LogisticRegression"
   ]
  },
  {
   "cell_type": "code",
   "execution_count": 2,
   "metadata": {},
   "outputs": [],
   "source": [
    "class Prepare_machine:\n",
    "    \n",
    "    def __init__(self, data):\n",
    "        self.data = data\n",
    "        \n",
    "    def remove_pattern(self, to_replace=None, to_regular=None):\n",
    "        if to_replace == None and to_regular == None:\n",
    "            raise Exeption(\"Empty argumets!\")\n",
    "        if to_replace is not None:\n",
    "            def del_links(s):\n",
    "                return s.replace(to_replace,'')\n",
    "            self.data = self.data.apply(del_links)\n",
    "        if to_regular is not None:\n",
    "            def del_with_regular(s):\n",
    "                return re.sub(to_regular, '', s, flags=re.MULTILINE)\n",
    "            self.data = self.data.apply(del_with_regular)\n",
    "        return self.data\n",
    "    \n",
    "    def remove_punctuation(self):\n",
    "        def del_punctuation(s):\n",
    "            return ''.join([l for l in s if l not in string.punctuation])\n",
    "        self.data = self.data.apply(del_punctuation)\n",
    "        return self.data\n",
    "    \n",
    "    def remove_numbers(self):\n",
    "        def del_num(s):\n",
    "            return ''.join([i for i in s if not i.isdigit()])\n",
    "        self.data = self.data.apply(del_num)\n",
    "        return self.data\n",
    "    \n",
    "    def tokenize(self, reg):\n",
    "        self.data = self.data.apply(lambda s: s.lower())\n",
    "        tokenizer = nltk.tokenize.RegexpTokenizer(reg)\n",
    "        self.data = self.data.apply(lambda s: tokenizer.tokenize(s))\n",
    "        return self.data\n",
    "    \n",
    "    def remove_stop_words(self):\n",
    "        def del_stop_words(s):\n",
    "            return [w for w in s if w not in nltk.corpus.stopwords.words('english')]\n",
    "        self.data = self.data.apply(del_stop_words)\n",
    "        return self.data\n",
    "    \n",
    "    def lemmatizing(self):\n",
    "        lemmatizer = nltk.stem.WordNetLemmatizer()\n",
    "        def lemm(s):\n",
    "            return [lemmatizer.lemmatize(w) for w in s]\n",
    "        self.data = self.data.apply(lemm)\n",
    "        return self.data\n",
    "        \n",
    "    def stemming(self):\n",
    "        stemmer = nltk.stem.porter.PorterStemmer()\n",
    "        def stemm(s):\n",
    "            return [stemmer.stem(w) for w in s]\n",
    "        self.data = self.data.apply(stemm)\n",
    "        return self.data\n",
    "    \n",
    "    def default_pipeline(self, to_replace = None, to_regular = None,\n",
    "                        token_reg = None, short_words = 'lemm'):\n",
    "        if short_words is not 'lemm' and short_words is not 'stemm':\n",
    "            raise Exeption(f'Unknown tool: {short_words}')\n",
    "        print('Removing patterns...')\n",
    "        self.remove_pattern(to_replace=to_replace, to_regular=to_regular)\n",
    "        print('Removing punctuation...')\n",
    "        self.remove_punctuation()\n",
    "        print('Removing numbers...')\n",
    "        self.remove_numbers()\n",
    "        print('Tokenizing...')\n",
    "        self.tokenize(reg = token_reg)\n",
    "        print('Removing stop words...')\n",
    "        self.remove_stop_words()\n",
    "        if short_words == 'stemm':\n",
    "            print('Stemming...')\n",
    "            self.stemming()\n",
    "        else:\n",
    "            print('Lemmatizing...')\n",
    "            self.lemmatizing()\n",
    "        print('Done!')\n",
    "        return self.data\n",
    "    \n",
    "    def save_csv(self, name = 'data.csv'):\n",
    "        self.data.to_csv(name)"
   ]
  },
  {
   "cell_type": "code",
   "execution_count": 3,
   "metadata": {},
   "outputs": [],
   "source": [
    "data = pd.read_csv('./datasets/training.1600000.processed.noemoticon.csv', \n",
    "                   encoding='ISO-8859-1',\n",
    "                   names=['label','id', 'date','query', 'name','tweet'])\n",
    "\n",
    "prep = Prepare_machine(data=data['tweet'])\n",
    "prep.default_pipeline(to_replace=None,\n",
    "                      to_regular=r\"http\\S+\",\n",
    "                     token_reg=r'\\w+',\n",
    "                     short_words = 'lemm');"
   ]
  },
  {
   "cell_type": "code",
   "execution_count": 5,
   "metadata": {},
   "outputs": [
    {
     "data": {
      "image/png": "[encoded data removed]",
      "text/plain": [
       "<Figure size 432x288 with 1 Axes>"
      ]
     },
     "metadata": {
      "needs_background": "light"
     },
     "output_type": "display_data"
    }
   ],
   "source": [
    "labels = data['label']\n",
    "plt.hist(labels);"
   ]
  },
  {
   "cell_type": "code",
   "execution_count": 24,
   "metadata": {},
   "outputs": [
    {
     "data": {
      "text/html": [
       "<div>\n",
       "<style scoped>\n",
       "    .dataframe tbody tr th:only-of-type {\n",
       "        vertical-align: middle;\n",
       "    }\n",
       "\n",
       "    .dataframe tbody tr th {\n",
       "        vertical-align: top;\n",
       "    }\n",
       "\n",
       "    .dataframe thead th {\n",
       "        text-align: right;\n",
       "    }\n",
       "</style>\n",
       "<table border=\"1\" class=\"dataframe\">\n",
       "  <thead>\n",
       "    <tr style=\"text-align: right;\">\n",
       "      <th></th>\n",
       "      <th>label</th>\n",
       "      <th>id</th>\n",
       "      <th>date</th>\n",
       "      <th>query</th>\n",
       "      <th>name</th>\n",
       "      <th>tweet</th>\n",
       "    </tr>\n",
       "  </thead>\n",
       "  <tbody>\n",
       "    <tr>\n",
       "      <th>0</th>\n",
       "      <td>0</td>\n",
       "      <td>1467810369</td>\n",
       "      <td>Mon Apr 06 22:19:45 PDT 2009</td>\n",
       "      <td>NO_QUERY</td>\n",
       "      <td>_TheSpecialOne_</td>\n",
       "      <td>[switchfoot, awww, thats, bummer, shoulda, got...</td>\n",
       "    </tr>\n",
       "    <tr>\n",
       "      <th>1</th>\n",
       "      <td>0</td>\n",
       "      <td>1467810672</td>\n",
       "      <td>Mon Apr 06 22:19:49 PDT 2009</td>\n",
       "      <td>NO_QUERY</td>\n",
       "      <td>scotthamilton</td>\n",
       "      <td>[upset, cant, update, facebook, texting, might...</td>\n",
       "    </tr>\n",
       "    <tr>\n",
       "      <th>2</th>\n",
       "      <td>0</td>\n",
       "      <td>1467810917</td>\n",
       "      <td>Mon Apr 06 22:19:53 PDT 2009</td>\n",
       "      <td>NO_QUERY</td>\n",
       "      <td>mattycus</td>\n",
       "      <td>[kenichan, dived, many, time, ball, managed, s...</td>\n",
       "    </tr>\n",
       "    <tr>\n",
       "      <th>3</th>\n",
       "      <td>0</td>\n",
       "      <td>1467811184</td>\n",
       "      <td>Mon Apr 06 22:19:57 PDT 2009</td>\n",
       "      <td>NO_QUERY</td>\n",
       "      <td>ElleCTF</td>\n",
       "      <td>[whole, body, feel, itchy, like, fire]</td>\n",
       "    </tr>\n",
       "    <tr>\n",
       "      <th>4</th>\n",
       "      <td>0</td>\n",
       "      <td>1467811193</td>\n",
       "      <td>Mon Apr 06 22:19:57 PDT 2009</td>\n",
       "      <td>NO_QUERY</td>\n",
       "      <td>Karoli</td>\n",
       "      <td>[nationwideclass, behaving, im, mad, cant, see]</td>\n",
       "    </tr>\n",
       "  </tbody>\n",
       "</table>\n",
       "</div>"
      ],
      "text/plain": [
       "   label          id                          date     query             name  \\\n",
       "0      0  1467810369  Mon Apr 06 22:19:45 PDT 2009  NO_QUERY  _TheSpecialOne_   \n",
       "1      0  1467810672  Mon Apr 06 22:19:49 PDT 2009  NO_QUERY    scotthamilton   \n",
       "2      0  1467810917  Mon Apr 06 22:19:53 PDT 2009  NO_QUERY         mattycus   \n",
       "3      0  1467811184  Mon Apr 06 22:19:57 PDT 2009  NO_QUERY          ElleCTF   \n",
       "4      0  1467811193  Mon Apr 06 22:19:57 PDT 2009  NO_QUERY           Karoli   \n",
       "\n",
       "                                               tweet  \n",
       "0  [switchfoot, awww, thats, bummer, shoulda, got...  \n",
       "1  [upset, cant, update, facebook, texting, might...  \n",
       "2  [kenichan, dived, many, time, ball, managed, s...  \n",
       "3             [whole, body, feel, itchy, like, fire]  \n",
       "4    [nationwideclass, behaving, im, mad, cant, see]  "
      ]
     },
     "execution_count": 24,
     "metadata": {},
     "output_type": "execute_result"
    }
   ],
   "source": [
    "data['tweet'] = prep.data\n",
    "data.head()"
   ]
  },
  {
   "cell_type": "code",
   "execution_count": 26,
   "metadata": {},
   "outputs": [],
   "source": [
    "prepared_data = data['tweet']\n",
    "w2v = gensim.models.word2vec.Word2Vec(size=200,\n",
    "                                        window=7,\n",
    "                                        min_count=15,\n",
    "                                        workers=4)\n",
    "w2v.build_vocab(prepared_data)"
   ]
  },
  {
   "cell_type": "code",
   "execution_count": 27,
   "metadata": {},
   "outputs": [
    {
     "name": "stdout",
     "output_type": "stream",
     "text": [
      "Vocab size 29152\n"
     ]
    }
   ],
   "source": [
    "words = w2v.wv.vocab.keys()\n",
    "vocab_size = len(words)\n",
    "print(\"Vocab size\", vocab_size)"
   ]
  },
  {
   "cell_type": "code",
   "execution_count": 29,
   "metadata": {},
   "outputs": [
    {
     "name": "stdout",
     "output_type": "stream",
     "text": [
      "CPU times: user 48min 19s, sys: 20.1 s, total: 48min 39s\n",
      "Wall time: 17min 39s\n"
     ]
    },
    {
     "data": {
      "text/plain": [
       "(406027739, 490890320)"
      ]
     },
     "execution_count": 29,
     "metadata": {},
     "output_type": "execute_result"
    }
   ],
   "source": [
    "%%time\n",
    "w2v.train(prepared_data,total_examples=len(prepared_data), epochs=40)"
   ]
  },
  {
   "cell_type": "code",
   "execution_count": 34,
   "metadata": {},
   "outputs": [
    {
     "name": "stderr",
     "output_type": "stream",
     "text": [
      "/home/hacket/anaconda3/lib/python3.7/site-packages/ipykernel_launcher.py:1: DeprecationWarning: Call to deprecated `most_similar` (Method will be removed in 4.0.0, use self.wv.most_similar() instead).\n",
      "  \"\"\"Entry point for launching an IPython kernel.\n"
     ]
    },
    {
     "data": {
      "text/plain": [
       "[('lmfao', 0.49852320551872253),\n",
       " ('lmao', 0.45016756653785706),\n",
       " ('xd', 0.4494699239730835),\n",
       " ('ahaha', 0.44786402583122253),\n",
       " ('haha', 0.4337320029735565),\n",
       " ('lol', 0.411421000957489),\n",
       " ('sowy', 0.40290015935897827),\n",
       " ('himynameisrose', 0.3966992497444153),\n",
       " ('joke', 0.3944868743419647),\n",
       " ('miriamcheah', 0.3920188546180725)]"
      ]
     },
     "execution_count": 34,
     "metadata": {},
     "output_type": "execute_result"
    }
   ],
   "source": [
    "w2v.most_similar('rofl')"
   ]
  },
  {
   "cell_type": "code",
   "execution_count": 12,
   "metadata": {},
   "outputs": [
    {
     "name": "stderr",
     "output_type": "stream",
     "text": [
      "/home/hacket/anaconda3/lib/python3.7/site-packages/ipykernel_launcher.py:9: DeprecationWarning: Call to deprecated `__getitem__` (Method will be removed in 4.0.0, use self.wv.__getitem__() instead).\n",
      "  if __name__ == '__main__':\n"
     ]
    },
    {
     "data": {
      "text/plain": [
       "array([-2.92865629e-03, -7.61170268e-01, -2.22437888e-01,  1.57461241e-01,\n",
       "        4.99672592e-01,  2.44937494e-01,  4.87527192e-01, -3.05193841e-01,\n",
       "        5.91548979e-01,  1.04022168e-01, -1.78655639e-01, -3.79262298e-01,\n",
       "        4.85999361e-02,  7.48429820e-02,  1.26162227e-02, -1.16390303e-01,\n",
       "        9.96585637e-02, -3.35234627e-02,  2.35826135e-01, -1.63960248e-01,\n",
       "        2.65031010e-01, -4.82740819e-01,  5.71364880e-01, -4.68691200e-01,\n",
       "       -2.89965272e-01,  1.69161670e-02, -5.22059083e-01, -4.40463051e-02,\n",
       "       -4.85579193e-01, -7.62962401e-02, -1.14583552e-01,  6.93104491e-02,\n",
       "        5.06011955e-02, -3.88383090e-01,  2.23617554e-01, -4.83963005e-02,\n",
       "        1.87157840e-01,  7.30818487e-04,  7.26907670e-01,  2.43645042e-01,\n",
       "        1.67071998e-01,  4.25127894e-01,  3.12987953e-01,  5.63850522e-01,\n",
       "       -2.57451594e-01,  4.06299122e-02, -2.70173848e-01, -2.37431407e-01,\n",
       "       -2.15783879e-01, -2.04685569e-01, -1.64656371e-01, -6.18893504e-01,\n",
       "       -2.75088429e-01,  5.86646199e-01, -3.76697242e-01,  6.96112692e-01,\n",
       "        2.51671702e-01, -5.31701669e-02, -3.62354284e-03,  1.12516439e+00,\n",
       "        2.64766999e-02, -1.68769568e-01,  3.00773442e-01,  1.16587818e-01,\n",
       "        4.90868866e-01, -1.73171423e-02,  2.12222427e-01,  5.56394346e-02,\n",
       "        1.41356677e-01, -1.56188294e-01,  6.10368192e-01, -3.48092347e-01,\n",
       "       -6.77233189e-02,  4.39285755e-01, -3.57325852e-01, -3.39710526e-02,\n",
       "       -1.41374797e-01, -1.41513854e-01,  9.05306786e-02,  2.30301861e-02,\n",
       "       -4.34856892e-01, -7.49927938e-01, -5.87193370e-01, -1.04711890e-01,\n",
       "       -3.86885554e-01, -5.23575902e-01,  5.39521813e-01, -1.66835397e-01,\n",
       "        9.86380354e-02,  3.10309440e-01,  4.56492230e-02,  5.02810538e-01,\n",
       "        1.32398251e-02, -1.74150709e-02, -2.37953901e-01,  4.50146437e-01,\n",
       "        3.65559161e-01, -6.52800679e-01,  2.70414341e-04,  2.96165168e-01,\n",
       "        1.15859034e-02, -3.29271071e-02, -5.90940356e-01, -7.76846427e-03,\n",
       "        6.18069947e-01, -6.61302447e-01, -1.13994673e-01, -6.55340433e-01,\n",
       "        5.11262938e-02,  2.85440475e-01,  3.98940146e-01, -2.15387195e-01,\n",
       "        1.21174172e-01,  4.73192364e-01, -1.82024762e-01,  2.47186035e-01,\n",
       "       -2.08724827e-01, -6.77500784e-01,  1.35115102e-01, -4.49554116e-01,\n",
       "        4.49133873e-01,  2.27694988e-01, -6.33512735e-02,  3.64981353e-01,\n",
       "       -4.79311049e-01, -2.35519141e-01, -1.80888936e-01,  5.30037172e-02,\n",
       "       -1.01860642e+00, -7.92533994e-01, -1.42688747e-03, -2.96991587e-01,\n",
       "        2.04563543e-01,  1.38110861e-01, -3.04438531e-01,  5.03919125e-02,\n",
       "        2.88720608e-01,  8.80142301e-02, -3.71515900e-01, -5.09239197e-01,\n",
       "        2.59949446e-01, -1.88985951e-02, -1.28741354e-01,  3.48908335e-01,\n",
       "        2.18600944e-01,  2.83380738e-03,  2.11769789e-01, -1.08324245e-01,\n",
       "        8.65749940e-02,  3.22230428e-01, -2.92400748e-01,  9.45889503e-02,\n",
       "        3.12259905e-02,  5.85415363e-02, -2.74456263e-01,  2.86365360e-01,\n",
       "        1.51152939e-01, -4.51098353e-01, -6.13264441e-01,  4.55376625e-01,\n",
       "       -4.44709212e-01,  1.73494294e-01, -1.24628901e-01, -7.40639940e-02,\n",
       "        4.54891592e-01,  6.36740088e-01, -5.00922680e-01,  1.76352948e-01,\n",
       "       -4.76134926e-01,  3.48731950e-02,  6.23016775e-01, -1.49447590e-01,\n",
       "        2.80202597e-01,  1.50587842e-01, -2.08517164e-01, -1.67564936e-02,\n",
       "       -3.99410188e-01,  4.84751076e-01, -6.85038120e-02,  3.89738157e-02,\n",
       "       -3.53294522e-01, -3.26283783e-01, -2.31276155e-01, -6.17215514e-01,\n",
       "        4.06279325e-01, -1.83981657e-01, -1.12436607e-01, -3.84213915e-03,\n",
       "       -5.03227003e-02, -1.53327376e-01, -5.58112264e-01,  3.29942912e-01,\n",
       "       -3.50980520e-01,  1.43258303e-01, -2.40395755e-01,  5.83839536e-01,\n",
       "       -9.84568372e-02,  3.12002361e-01, -1.63820952e-01, -8.59566778e-02],\n",
       "      dtype=float32)"
      ]
     },
     "execution_count": 12,
     "metadata": {},
     "output_type": "execute_result"
    }
   ],
   "source": [
    "index2word_set = set(w2v.wv.index2word)\n",
    "\n",
    "def featureVecMethod(words, model, num_features):\n",
    "    featureVec = np.zeros(num_features,dtype=\"float32\")\n",
    "    nwords = 0\n",
    "    for word in  words.split():\n",
    "        if word in index2word_set:\n",
    "            nwords = nwords + 1\n",
    "            featureVec = np.add(featureVec,model[word])\n",
    "    featureVec = np.divide(featureVec, nwords)\n",
    "    return featureVec\n",
    "featureVecMethod(model=w2v,words=prep_data['tweet'][0], num_features=200)"
   ]
  },
  {
   "cell_type": "code",
   "execution_count": 14,
   "metadata": {},
   "outputs": [
    {
     "name": "stdout",
     "output_type": "stream",
     "text": [
      "CPU times: user 9 µs, sys: 0 ns, total: 9 µs\n",
      "Wall time: 14.5 µs\n"
     ]
    },
    {
     "name": "stderr",
     "output_type": "stream",
     "text": [
      "/home/hacket/anaconda3/lib/python3.7/site-packages/ipykernel_launcher.py:9: DeprecationWarning: Call to deprecated `__getitem__` (Method will be removed in 4.0.0, use self.wv.__getitem__() instead).\n",
      "  if __name__ == '__main__':\n",
      "/home/hacket/anaconda3/lib/python3.7/site-packages/ipykernel_launcher.py:10: RuntimeWarning: invalid value encountered in true_divide\n",
      "  # Remove the CWD from sys.path while we load stuff.\n"
     ]
    }
   ],
   "source": [
    "%time\n",
    "\n",
    "encoded_twets = []\n",
    "for tweet in prep_data['tweet']:\n",
    "    encoded_twets.append(featureVecMethod(words=tweet, model=w2v, num_features=200))"
   ]
  },
  {
   "cell_type": "code",
   "execution_count": null,
   "metadata": {},
   "outputs": [],
   "source": [
    "encoded_twets = np.array(encoded_twets).reshape([-1,200])"
   ]
  },
  {
   "cell_type": "code",
   "execution_count": 14,
   "metadata": {},
   "outputs": [],
   "source": [
    "nan_rows = np.unique(np.argwhere(np.isnan(encoded_tweets))[:,0])\n",
    "labels = np.delete(labels.values,nan_rows)\n",
    "encoded_tweets = np.delete(encoded_tweets,nan_rows, axis=0)"
   ]
  },
  {
   "cell_type": "code",
   "execution_count": 18,
   "metadata": {},
   "outputs": [],
   "source": [
    "labels[np.where(labels==4)] = 1\n",
    "X_train, X_test, y_train, y_test = train_test_split(encoded_tweets,labels, test_size=0.3)"
   ]
  },
  {
   "cell_type": "code",
   "execution_count": null,
   "metadata": {},
   "outputs": [
    {
     "name": "stderr",
     "output_type": "stream",
     "text": [
      "/home/hacket/anaconda3/lib/python3.7/site-packages/sklearn/linear_model/logistic.py:433: FutureWarning: Default solver will be changed to 'lbfgs' in 0.22. Specify a solver to silence this warning.\n",
      "  FutureWarning)\n"
     ]
    }
   ],
   "source": [
    "# my laptop RAM is not enough, so i trained model in google colab\n",
    "logreg = LogisticRegression()\n",
    "logreg.fit(X_train, y_train)"
   ]
  }
 ],
 "metadata": {
  "kernelspec": {
   "display_name": "Python 3",
   "language": "python",
   "name": "python3"
  },
  "language_info": {
   "codemirror_mode": {
    "name": "ipython",
    "version": 3
   },
   "file_extension": ".py",
   "mimetype": "text/x-python",
   "name": "python",
   "nbconvert_exporter": "python",
   "pygments_lexer": "ipython3",
   "version": "3.7.3"
  }
 },
 "nbformat": 4,
 "nbformat_minor": 2
}
