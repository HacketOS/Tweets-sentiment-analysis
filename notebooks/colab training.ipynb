{
 "cells": [
  {
   "cell_type": "code",
   "execution_count": 1,
   "metadata": {
    "colab": {
     "base_uri": "https://localhost:8080/",
     "height": 73
    },
    "colab_type": "code",
    "id": "zeT3uroM-DJE",
    "outputId": "f0979f99-933e-46f7-c5a0-3de0be704b92"
   },
   "outputs": [],
   "source": [
    "import pandas as pd\n",
    "import numpy as np\n",
    "from sklearn.linear_model import LogisticRegression\n",
    "from sklearn.metrics import accuracy_score\n",
    "import pickle"
   ]
  },
  {
   "cell_type": "code",
   "execution_count": null,
   "metadata": {
    "colab": {
     "base_uri": "https://localhost:8080/",
     "height": 127
    },
    "colab_type": "code",
    "id": "2CJhD-OWVLEA",
    "outputId": "4fffdaf8-2ee7-4f8e-a4cb-15e2b61c0827"
   },
   "outputs": [],
   "source": [
    "from google.colab import drive\n",
    "drive.mount('/content/drive')"
   ]
  },
  {
   "cell_type": "code",
   "execution_count": null,
   "metadata": {
    "colab": {},
    "colab_type": "code",
    "id": "TIuJcyRlTLeH"
   },
   "outputs": [],
   "source": [
    "X_train = np.load('./drive/My Drive/X_train.npy')\n",
    "y_train = np.load('./drive/My Drive/y_train.npy')\n",
    "X_test = np.load('./drive/My Drive/X_test.npy')\n",
    "y_test = np.load('./drive/My Drive/y_test.npy')"
   ]
  },
  {
   "cell_type": "code",
   "execution_count": null,
   "metadata": {
    "colab": {
     "base_uri": "https://localhost:8080/",
     "height": 253
    },
    "colab_type": "code",
    "id": "TSOk9i_YTFdt",
    "outputId": "58fcae5f-1e04-454f-ca94-438e92371270"
   },
   "outputs": [],
   "source": [
    "%%time\n",
    "params = [0.1, 0.5, 1, 1.5, 2]\n",
    "accuracys = []\n",
    "for c in params:\n",
    "    logreg = LogisticRegression(C=c)\n",
    "    logreg.fit(X_train, y_train)\n",
    "    accuracys.append(accuracy_score(logreg.predict(X_test), y_test))"
   ]
  },
  {
   "cell_type": "code",
   "execution_count": null,
   "metadata": {
    "colab": {
     "base_uri": "https://localhost:8080/",
     "height": 107
    },
    "colab_type": "code",
    "id": "kiONdLAvc0j7",
    "outputId": "9424029e-a03f-4f17-a7c5-86e14fc995c8"
   },
   "outputs": [
    {
     "data": {
      "text/plain": [
       "[0.75077134760877,\n",
       " 0.7507818349997798,\n",
       " 0.7507776400433759,\n",
       " 0.750767152652366,\n",
       " 0.750769250130568]"
      ]
     },
     "execution_count": 20,
     "metadata": {
      "tags": []
     },
     "output_type": "execute_result"
    }
   ],
   "source": [
    "accuracys"
   ]
  },
  {
   "cell_type": "code",
   "execution_count": 6,
   "metadata": {
    "colab": {
     "base_uri": "https://localhost:8080/",
     "height": 127
    },
    "colab_type": "code",
    "id": "2I9-VERqcz-Y",
    "outputId": "65f2fd18-3499-4256-e31d-62a139251418"
   },
   "outputs": [
    {
     "name": "stderr",
     "output_type": "stream",
     "text": [
      "/usr/local/lib/python3.6/dist-packages/sklearn/linear_model/logistic.py:432: FutureWarning: Default solver will be changed to 'lbfgs' in 0.22. Specify a solver to silence this warning.\n",
      "  FutureWarning)\n",
      "/usr/local/lib/python3.6/dist-packages/sklearn/linear_model/logistic.py:1544: UserWarning: 'n_jobs' > 1 does not have any effect when 'solver' is set to 'liblinear'. Got 'n_jobs' = 2.\n",
      "  \" = {}.\".format(effective_n_jobs(self.n_jobs)))\n"
     ]
    },
    {
     "name": "stdout",
     "output_type": "stream",
     "text": [
      "0.7507818349997798\n"
     ]
    }
   ],
   "source": [
    "logreg = LogisticRegression(C=0.5,n_jobs=-1,max_iter=500)\n",
    "logreg.fit(X_train, y_train)\n",
    "print(accuracy_score(logreg.predict(X_test), y_test))"
   ]
  },
  {
   "cell_type": "code",
   "execution_count": 12,
   "metadata": {
    "colab": {
     "base_uri": "https://localhost:8080/",
     "height": 35
    },
    "colab_type": "code",
    "id": "-SXEgHXzUcmp",
    "outputId": "371d240a-99d3-42ad-b03a-ca7496dc5b6b"
   },
   "outputs": [
    {
     "data": {
      "text/plain": [
       "['model.sav']"
      ]
     },
     "execution_count": 12,
     "metadata": {
      "tags": []
     },
     "output_type": "execute_result"
    }
   ],
   "source": [
    "filename = 'model.sav'\n",
    "pickle.dump(logreg, open(filename, 'wb'))"
   ]
  },
  {
   "cell_type": "code",
   "execution_count": 13,
   "metadata": {
    "colab": {
     "base_uri": "https://localhost:8080/",
     "height": 35
    },
    "colab_type": "code",
    "id": "RKZey5A-VhG0",
    "outputId": "32600fb8-6db0-444b-9777-9afeaad702f2"
   },
   "outputs": [
    {
     "name": "stdout",
     "output_type": "stream",
     "text": [
      "0.7507818349997798\n"
     ]
    }
   ],
   "source": [
    "model = pickle.load(open(filename, 'rb'))\n",
    "print(accuracy_score(model.predict(X_test), y_test))"
   ]
  }
 ],
 "metadata": {
  "colab": {
   "name": "twitter_sentiment_anlysis.ipynb",
   "provenance": []
  },
  "kernelspec": {
   "display_name": "Python 3",
   "language": "python",
   "name": "python3"
  },
  "language_info": {
   "codemirror_mode": {
    "name": "ipython",
    "version": 3
   },
   "file_extension": ".py",
   "mimetype": "text/x-python",
   "name": "python",
   "nbconvert_exporter": "python",
   "pygments_lexer": "ipython3",
   "version": "3.7.3"
  }
 },
 "nbformat": 4,
 "nbformat_minor": 2
}
